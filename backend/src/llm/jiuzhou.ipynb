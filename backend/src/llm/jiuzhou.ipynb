{
 "cells": [
  {
   "cell_type": "code",
   "execution_count": 1,
   "id": "c42a031d-b760-49f5-ab14-32de064e7b75",
   "metadata": {},
   "outputs": [],
   "source": [
    "import torch"
   ]
  },
  {
   "cell_type": "code",
   "execution_count": 2,
   "id": "af307dd3-7ad1-4a38-ba3c-653213071be6",
   "metadata": {},
   "outputs": [],
   "source": [
    "from transformers import AutoTokenizer, AutoModelForCausalLM"
   ]
  },
  {
   "cell_type": "code",
   "execution_count": 3,
   "id": "c00b3b5a-420c-4458-96df-4acdf976f650",
   "metadata": {},
   "outputs": [],
   "source": [
    "device = torch.device(\"cuda:0\") if torch.cuda.is_available() else torch.device(\"cpu\")"
   ]
  },
  {
   "cell_type": "code",
   "execution_count": 4,
   "id": "f9a194d2-2be0-4903-aee6-96fa66c57c9b",
   "metadata": {},
   "outputs": [],
   "source": [
    "model_path = \"/root/autodl-tmp/virtual star/virtual_constellation_assistant/backend/src/llm/JiuZhou-Instruct-v0.2\""
   ]
  },
  {
   "cell_type": "code",
   "execution_count": 5,
   "id": "85dc6f51-f28b-4e29-b4f8-7a1639a72f5d",
   "metadata": {},
   "outputs": [],
   "source": [
    "tokenizer = AutoTokenizer.from_pretrained(model_path)"
   ]
  },
  {
   "cell_type": "code",
   "execution_count": 6,
   "id": "609d3676-e01d-4d3b-9c02-cc9b83eecd15",
   "metadata": {},
   "outputs": [
    {
     "data": {
      "application/vnd.jupyter.widget-view+json": {
       "model_id": "e943183e625940a5b6c1193eb90e3a77",
       "version_major": 2,
       "version_minor": 0
      },
      "text/plain": [
       "Loading checkpoint shards:   0%|          | 0/4 [00:00<?, ?it/s]"
      ]
     },
     "metadata": {},
     "output_type": "display_data"
    }
   ],
   "source": [
    "model = AutoModelForCausalLM.from_pretrained(model_path, torch_dtype=torch.bfloat16, device_map=device)"
   ]
  },
  {
   "cell_type": "code",
   "execution_count": 7,
   "id": "0e92a1dc-2c4e-4f19-803e-1c4f0d7058fb",
   "metadata": {},
   "outputs": [],
   "source": [
    "text = \"What is geoscience?\"\n",
    "messages = [{\"role\": \"user\", \"content\": text}]"
   ]
  },
  {
   "cell_type": "code",
   "execution_count": 8,
   "id": "fe321026-cf3d-48e0-b5ca-fca14bd17c45",
   "metadata": {},
   "outputs": [
    {
     "name": "stderr",
     "output_type": "stream",
     "text": [
      "The attention mask and the pad token id were not set. As a consequence, you may observe unexpected behavior. Please pass your input's `attention_mask` to obtain reliable results.\n",
      "Setting `pad_token_id` to `eos_token_id`:2 for open-end generation.\n",
      "The attention mask is not set and cannot be inferred from input because pad token is same as eos token. As a consequence, you may observe unexpected behavior. Please pass your input's `attention_mask` to obtain reliable results.\n"
     ]
    },
    {
     "name": "stdout",
     "output_type": "stream",
     "text": [
      "[INST] What is geoscience? [/INST] Geoscience is an interdisciplinary major that involves studying the Earth and space to understand their makeup, origin, geological processes, and evolution over time. It investigates the different components of Earth (including the crust, atmosphere, hydrosphere, and biosphere) and how they interact with one another.\n"
     ]
    }
   ],
   "source": [
    "inputs = tokenizer.apply_chat_template(messages, return_tensors=\"pt\").to(device)\n",
    "outputs_id = model.generate(inputs, max_new_tokens=600, do_sample=True)\n",
    "outputs = tokenizer.batch_decode(outputs_id, skip_special_tokens=True)[0]\n",
    "print(outputs)"
   ]
  },
  {
   "cell_type": "code",
   "execution_count": null,
   "id": "1cf9bf9f-ccdd-4ac5-8d0e-2d5f33726cae",
   "metadata": {},
   "outputs": [],
   "source": []
  }
 ],
 "metadata": {
  "kernelspec": {
   "display_name": "Python 3 (ipykernel)",
   "language": "python",
   "name": "python3"
  },
  "language_info": {
   "codemirror_mode": {
    "name": "ipython",
    "version": 3
   },
   "file_extension": ".py",
   "mimetype": "text/x-python",
   "name": "python",
   "nbconvert_exporter": "python",
   "pygments_lexer": "ipython3",
   "version": "3.12.3"
  }
 },
 "nbformat": 4,
 "nbformat_minor": 5
}
