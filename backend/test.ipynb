{
 "cells": [
  {
   "cell_type": "code",
   "execution_count": 1,
   "id": "7e01cefb",
   "metadata": {},
   "outputs": [
    {
     "name": "stdout",
     "output_type": "stream",
     "text": [
      "✅ 成功导入爬虫模块\n"
     ]
    }
   ],
   "source": [
    "import os\n",
    "import sys\n",
    "import asyncio\n",
    "import json\n",
    "from pathlib import Path\n",
    "\n",
    "# 确保项目根目录在sys.path中\n",
    "current_file = Path.cwd()\n",
    "project_root = current_file.parent\n",
    "sys.path.append(str(project_root))\n",
    "\n",
    "# 添加backend目录到sys.path\n",
    "backend_dir = project_root / \"backend\"\n",
    "sys.path.append(str(backend_dir))\n",
    "from dotenv import load_dotenv\n",
    "load_dotenv()\n",
    "try:\n",
    "    from backend.src.tools.satellite_crawler import SatelliteCrawler\n",
    "    from backend.src.tools.satellite_data_processor import SatelliteDataProcessor\n",
    "    print(\"✅ 成功导入爬虫模块\")\n",
    "except ImportError as e:\n",
    "    print(f\"❌ 导入失败: {e}\")\n",
    "    sys.exit(1)\n"
   ]
  },
  {
   "cell_type": "code",
   "execution_count": 2,
   "id": "c3a5bc54",
   "metadata": {},
   "outputs": [
    {
     "name": "stdout",
     "output_type": "stream",
     "text": [
      "\n",
      "1️⃣ 测试爬虫初始化...\n",
      "✅ 爬虫初始化成功\n"
     ]
    }
   ],
   "source": [
    "print(\"\\n1️⃣ 测试爬虫初始化...\")\n",
    "crawler = SatelliteCrawler()\n",
    "print(\"✅ 爬虫初始化成功\")"
   ]
  },
  {
   "cell_type": "code",
   "execution_count": 3,
   "id": "79796e05",
   "metadata": {},
   "outputs": [
    {
     "name": "stdout",
     "output_type": "stream",
     "text": [
      "\n",
      "2️⃣ 测试获取主页内容...\n",
      "✅ 成功获取主页内容，长度: 39504 字符\n"
     ]
    }
   ],
   "source": [
    "print(\"\\n2️⃣ 测试获取主页内容...\")\n",
    "main_page_content = await crawler.fetch_page(crawler.base_url)\n",
    "if main_page_content:\n",
    "    print(f\"✅ 成功获取主页内容，长度: {len(main_page_content)} 字符\")\n",
    "else:\n",
    "    print(\"❌ 获取主页内容失败\")"
   ]
  },
  {
   "cell_type": "code",
   "execution_count": 4,
   "id": "79ffcb51",
   "metadata": {},
   "outputs": [
    {
     "name": "stdout",
     "output_type": "stream",
     "text": [
      "\n",
      "3️⃣ 测试解析最近发射列表...\n",
      "✅ 解析到 6 个最近发射的卫星\n"
     ]
    }
   ],
   "source": [
    "print(\"\\n3️⃣ 测试解析最近发射列表...\")\n",
    "recent_satellites = await crawler.crawl_recent_satellites()\n",
    "print(f\"✅ 解析到 {len(recent_satellites)} 个最近发射的卫星\")"
   ]
  },
  {
   "cell_type": "code",
   "execution_count": 5,
   "id": "22751ada",
   "metadata": {},
   "outputs": [
    {
     "name": "stdout",
     "output_type": "stream",
     "text": [
      "dict_keys(['launch_id', 'launch_date', 'satellite_name', 'satellite_url', 'vehicle', 'site', 'remark', 'source_url', 'crawl_time', 'description', 'short_name', 'detailed_specs', 'mass_kg', 'primary_application', 'applications', 'raw_content_sample'])\n"
     ]
    }
   ],
   "source": [
    "print(recent_satellites[0].keys())"
   ]
  },
  {
   "cell_type": "code",
   "execution_count": 6,
   "id": "54061225",
   "metadata": {},
   "outputs": [
    {
     "name": "stdout",
     "output_type": "stream",
     "text": [
      "\n",
      "📡 卫星 1: QPS-SAR 12 (Kushinada 1)\n",
      "   🔗 详情链接: https://space.skyrocket.de/doc_sdat/qps-sar-3.htm\n",
      "   📋 基本信息:\n",
      "      launch_date: 05.08.2025\n",
      "      vehicle: Electron KS\n",
      "      site: OnS LC-1B\n",
      "      remark: \n",
      "   🔍 增强信息:\n",
      "      description: QPS-SAR 3 [iQPS] QPS-SAR is a series of small high-resolution X-band SAR (synthetic aperture radar) ...\n",
      "      short_name: QPS-SAR\n",
      "      full_name: 未获取到\n",
      "      detailed_specs: 包含 7 个技术参数\n",
      "         nation: Japan\n",
      "         type_application: Earth observation, radar\n",
      "         operator: iQPS\n",
      "         contractors: iQPS\n",
      "         equipment: X-band SAR\n",
      "         power: 2 deployable solar arrays, solar cells, batteries\n",
      "         mass: ~100 kg\n",
      "      orbit_parameters: 未获取到\n",
      "      primary_application: Earth observation, radar\n"
     ]
    }
   ],
   "source": [
    "for i, satellite in enumerate(recent_satellites[0:1], 1):\n",
    "        print(f\"\\n📡 卫星 {i}: {satellite.get('satellite_name', 'Unknown')}\")\n",
    "        print(f\"   🔗 详情链接: {satellite.get('source_url', 'N/A')}\")\n",
    "        \n",
    "        # 检查基本信息\n",
    "        basic_fields = ['launch_date', 'vehicle', 'site', 'remark']\n",
    "        print(f\"   📋 基本信息:\")\n",
    "        for field in basic_fields:\n",
    "            value = satellite.get(field, 'N/A')\n",
    "            print(f\"      {field}: {value}\")\n",
    "        \n",
    "        # 检查增强信息\n",
    "        enhanced_fields = [\n",
    "            'description', 'short_name', 'full_name', \n",
    "            'detailed_specs', 'orbit_parameters', 'primary_application'\n",
    "        ]\n",
    "        \n",
    "        print(f\"   🔍 增强信息:\")\n",
    "        for field in enhanced_fields:\n",
    "            if field in satellite:\n",
    "                value = satellite[field]\n",
    "                if field == 'description':\n",
    "                    # 描述信息可能很长，只显示前100字符\n",
    "                    display_value = value[:100] + \"...\" if len(str(value)) > 100 else value\n",
    "                elif field == 'detailed_specs':\n",
    "                    # 显示技术规格的键\n",
    "                    display_value = f\"包含 {len(value) if isinstance(value, dict) else 0} 个技术参数\"\n",
    "                    if isinstance(value, dict):\n",
    "                        print(f\"      {field}: {display_value}\")\n",
    "                        for spec_key, spec_value in value.items():\n",
    "                            print(f\"         {spec_key}: {spec_value}\")\n",
    "                    continue\n",
    "                elif field == 'orbit_parameters':\n",
    "                    # 显示轨道参数\n",
    "                    display_value = f\"包含 {len(value) if isinstance(value, dict) else 0} 个轨道参数\"\n",
    "                    if isinstance(value, dict):\n",
    "                        print(f\"      {field}: {display_value}\")\n",
    "                        for param_key, param_value in value.items():\n",
    "                            print(f\"         {param_key}: {param_value}\")\n",
    "                    continue\n",
    "                else:\n",
    "                    display_value = value\n",
    "                \n",
    "                print(f\"      {field}: {display_value}\")\n",
    "            else:\n",
    "                print(f\"      {field}: 未获取到\")"
   ]
  },
  {
   "cell_type": "code",
   "execution_count": 8,
   "id": "a2aaf6a3",
   "metadata": {},
   "outputs": [
    {
     "name": "stdout",
     "output_type": "stream",
     "text": [
      "\n",
      "2️⃣ 测试增强的数据处理器...\n",
      "✅ 成功格式化 2 个卫星数据\n",
      "\n",
      "📊 格式化后的数据示例 (QPS-SAR 12 (Kushinada 1)):\n",
      "      satelliteName: QPS-SAR 12 (Kushinada 1)\n",
      "      alternateNames: [QPS-SAR]\n",
      "      COSPARId: \n",
      "      NORADId: None\n",
      "      satelliteAgencies: iQPS\n",
      "      owner: Japan\n",
      "      launchDate: 2025-08-05\n",
      "      launchSite: OnS LC-1B\n",
      "      period: None\n",
      "      inclination: None\n",
      "      apogee: None\n",
      "      perigee: None\n",
      "      dryMass: 100.0\n",
      "      orbitType: \n",
      "      applications: [Earth observation, radar]\n",
      "      isEO: Earth observation\n"
     ]
    }
   ],
   "source": [
    "print(f\"\\n2️⃣ 测试增强的数据处理器...\")\n",
    "processor = SatelliteDataProcessor()\n",
    "\n",
    "# 格式化数据\n",
    "formatted_data = await processor.clean_and_format_data(recent_satellites[:2])\n",
    "\n",
    "if formatted_data:\n",
    "    print(f\"✅ 成功格式化 {len(formatted_data)} 个卫星数据\")\n",
    "    \n",
    "    # 显示格式化后的第一个卫星\n",
    "    if len(formatted_data) > 0:\n",
    "        first_formatted = formatted_data[0]\n",
    "        print(f\"\\n📊 格式化后的数据示例 ({first_formatted.get('satelliteName', 'Unknown')}):\")\n",
    "        \n",
    "        # 显示关键字段\n",
    "        key_fields = [\n",
    "            'satelliteName', 'alternateNames', 'COSPARId', 'NORADId',\n",
    "            'satelliteAgencies', 'owner', 'launchDate', 'launchSite',\n",
    "            'period', 'inclination', 'apogee', 'perigee', 'dryMass',\n",
    "            'orbitType', 'applications', 'isEO'\n",
    "        ]\n",
    "        \n",
    "        for field in key_fields:\n",
    "            if field in first_formatted:\n",
    "                value = first_formatted[field]\n",
    "                # 格式化显示\n",
    "                if isinstance(value, list):\n",
    "                    display_value = f\"[{', '.join(map(str, value))}]\"\n",
    "                elif isinstance(value, (int, float)):\n",
    "                    display_value = f\"{value}\"\n",
    "                else:\n",
    "                    display_value = str(value)[:50] + \"...\" if len(str(value)) > 50 else str(value)\n",
    "                print(f\"      {field}: {display_value}\")\n",
    "        \n",
    "        # 显示爬取元数据\n",
    "        crawl_metadata = first_formatted.get('_crawl_metadata', {})\n",
    "        if crawl_metadata:\n",
    "            print(f\"\\n   🔧 爬取元数据:\")\n",
    "            for key, value in crawl_metadata.items():\n",
    "                if key not in ['description', 'detailed_specs']:  # 这些字段太长\n",
    "                    print(f\"      {key}: {value}\")\n",
    "else:\n",
    "    print(\"❌ 数据格式化失败\")"
   ]
  },
  {
   "cell_type": "code",
   "execution_count": 12,
   "id": "51446df6",
   "metadata": {},
   "outputs": [
    {
     "name": "stdout",
     "output_type": "stream",
     "text": [
      "satelliteName: QPS-SAR 12 (Kushinada 1)\n",
      "alternateNames: ['QPS-SAR']\n",
      "COSPARId: \n",
      "NORADId: None\n",
      "objectType: PAY\n",
      "operStatusCode: Operational\n",
      "satelliteAgencies: iQPS\n",
      "owner: Japan\n",
      "launchDate: 2025-08-05\n",
      "launchSite: OnS LC-1B\n",
      "eolDate: \n",
      "period: None\n",
      "inclination: None\n",
      "apogee: None\n",
      "perigee: None\n",
      "rcs: None\n",
      "dryMass: 100.0\n",
      "launchMass: 100.0\n",
      "orbitCenter: \n",
      "orbitType: \n",
      "orbitAltitude: \n",
      "repeatCycle: \n",
      "ect: \n",
      "orbitLongitude: \n",
      "orbitSense: \n",
      "applications: ['Earth observation', 'radar']\n",
      "webInfo: []\n",
      "dataPortal: []\n",
      "instrumentNames: ['X-band SAR']\n",
      "instrumentIds: []\n",
      "isEO: Earth observation\n",
      "relatedSatIds: []\n",
      "eoPortal: \n",
      "hasInstrumentId: []\n"
     ]
    }
   ],
   "source": [
    "for i in first_formatted.keys():\n",
    "    print(f'{i}: {first_formatted[i]}')\n",
    "    # print('\\n')\n"
   ]
  },
  {
   "cell_type": "code",
   "execution_count": 12,
   "id": "4f5511eb",
   "metadata": {},
   "outputs": [
    {
     "name": "stdout",
     "output_type": "stream",
     "text": [
      "sk-7138314907c142d0b9cbdd89db3b1065\n"
     ]
    }
   ],
   "source": [
    "\n",
    "print(os.getenv(\"DEEPSEEK_API_KEY\"))"
   ]
  }
 ],
 "metadata": {
  "kernelspec": {
   "display_name": "llm",
   "language": "python",
   "name": "python3"
  },
  "language_info": {
   "codemirror_mode": {
    "name": "ipython",
    "version": 3
   },
   "file_extension": ".py",
   "mimetype": "text/x-python",
   "name": "python",
   "nbconvert_exporter": "python",
   "pygments_lexer": "ipython3",
   "version": "3.12.11"
  }
 },
 "nbformat": 4,
 "nbformat_minor": 5
}
